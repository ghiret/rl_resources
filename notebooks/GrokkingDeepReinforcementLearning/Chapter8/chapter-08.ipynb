{
 "cells": [
  {
   "cell_type": "markdown",
   "metadata": {},
   "source": [
    "# Original Copyright notice\n",
    "Copyright (c) 2018, Miguel Morales\n",
    "All rights reserved.\n",
    "\n",
    "Redistribution and use in source and binary forms, with or without\n",
    "modification, are permitted provided that the following conditions are met:\n",
    "\n",
    "* Redistributions of source code must retain the above copyright notice, this\n",
    "  list of conditions and the following disclaimer.\n",
    "\n",
    "* Redistributions in binary form must reproduce the above copyright notice,\n",
    "  this list of conditions and the following disclaimer in the documentation\n",
    "  and/or other materials provided with the distribution.\n",
    "\n",
    "* Neither the name of the copyright holder nor the names of its\n",
    "  contributors may be used to endorse or promote products derived from\n",
    "  this software without specific prior written permission.\n",
    "\n",
    "THIS SOFTWARE IS PROVIDED BY THE COPYRIGHT HOLDERS AND CONTRIBUTORS \"AS IS\"\n",
    "AND ANY EXPRESS OR IMPLIED WARRANTIES, INCLUDING, BUT NOT LIMITED TO, THE\n",
    "IMPLIED WARRANTIES OF MERCHANTABILITY AND FITNESS FOR A PARTICULAR PURPOSE ARE\n",
    "DISCLAIMED. IN NO EVENT SHALL THE COPYRIGHT HOLDER OR CONTRIBUTORS BE LIABLE\n",
    "FOR ANY DIRECT, INDIRECT, INCIDENTAL, SPECIAL, EXEMPLARY, OR CONSEQUENTIAL\n",
    "DAMAGES (INCLUDING, BUT NOT LIMITED TO, PROCUREMENT OF SUBSTITUTE GOODS OR\n",
    "SERVICES; LOSS OF USE, DATA, OR PROFITS; OR BUSINESS INTERRUPTION) HOWEVER\n",
    "CAUSED AND ON ANY THEORY OF LIABILITY, WHETHER IN CONTRACT, STRICT LIABILITY,\n",
    "OR TORT (INCLUDING NEGLIGENCE OR OTHERWISE) ARISING IN ANY WAY OUT OF THE USE\n",
    "OF THIS SOFTWARE, EVEN IF ADVISED OF THE POSSIBILITY OF SUCH DAMAGE.\n",
    "\n",
    "## Original URL\n",
    "[Chapter 8 notebook](https://github.com/mimoralea/gdrl/blob/master/notebooks/chapter_08/chapter-08.ipynb)"
   ]
  },
  {
   "cell_type": "markdown",
   "metadata": {},
   "source": [
    "# NFQ"
   ]
  },
  {
   "cell_type": "code",
   "execution_count": 1,
   "metadata": {},
   "outputs": [
    {
     "name": "stdout",
     "output_type": "stream",
     "text": [
      "Failed to initialize NVML: Unknown Error\n"
     ]
    }
   ],
   "source": [
    "!nvidia-smi"
   ]
  },
  {
   "cell_type": "code",
   "execution_count": 2,
   "metadata": {},
   "outputs": [],
   "source": [
    "# Hack to load the gym_walk and gym_aima modules\n",
    "import sys\n",
    "import os\n",
    "   \n",
    "sys.path.append(os.path.abspath('../../../'))"
   ]
  },
  {
   "cell_type": "code",
   "execution_count": 3,
   "metadata": {},
   "outputs": [],
   "source": [
    "import warnings ; warnings.filterwarnings('ignore')\n",
    "import os\n",
    "\n",
    "import torch\n",
    "import torch.nn as nn\n",
    "import torch.nn.functional as F\n",
    "import torch.optim as optim\n",
    "\n",
    "import numpy as np\n",
    "from IPython.display import display\n",
    "from collections import namedtuple, deque\n",
    "import matplotlib.pyplot as plt\n",
    "import matplotlib.pylab as pylab\n",
    "from itertools import cycle, count\n",
    "from textwrap import wrap\n",
    "\n",
    "import matplotlib\n",
    "import subprocess\n",
    "import os.path\n",
    "import tempfile\n",
    "import random\n",
    "import base64\n",
    "import pprint\n",
    "import glob\n",
    "import time\n",
    "import json\n",
    "import sys\n",
    "import gymnasium as gym\n",
    "import io\n",
    "import os\n",
    "import gc\n",
    "\n",
    "from gymnasium import wrappers\n",
    "from subprocess import check_output\n",
    "from IPython.display import HTML\n",
    "\n",
    "%matplotlib inline"
   ]
  },
  {
   "cell_type": "code",
   "execution_count": 4,
   "metadata": {},
   "outputs": [],
   "source": [
    "plt.style.use('fivethirtyeight')\n",
    "params = {\n",
    "    'figure.figsize': (15, 8),\n",
    "    'font.size': 24,\n",
    "    'legend.fontsize': 20,\n",
    "    'axes.titlesize': 28,\n",
    "    'axes.labelsize': 24,\n",
    "    'xtick.labelsize': 20,\n",
    "    'ytick.labelsize': 20\n",
    "}\n",
    "pylab.rcParams.update(params)\n",
    "np.set_printoptions(suppress=True)"
   ]
  },
  {
   "cell_type": "code",
   "execution_count": 5,
   "metadata": {},
   "outputs": [
    {
     "data": {
      "text/plain": [
       "False"
      ]
     },
     "execution_count": 5,
     "metadata": {},
     "output_type": "execute_result"
    }
   ],
   "source": [
    "torch.cuda.is_available()"
   ]
  },
  {
   "cell_type": "markdown",
   "metadata": {},
   "source": [
    "# NFQ"
   ]
  },
  {
   "cell_type": "code",
   "execution_count": 6,
   "metadata": {},
   "outputs": [],
   "source": [
    "from src.gdrl.ch8 import FCQ, EGreedyStrategy,GreedyStrategy, NFQ, BEEP\n",
    "from src.gdrl.ch8.env_utils import get_make_env_fn"
   ]
  },
  {
   "cell_type": "code",
   "execution_count": 7,
   "metadata": {
    "scrolled": true
   },
   "outputs": [
    {
     "name": "stdout",
     "output_type": "stream",
     "text": [
      "render_mode: None\n",
      "\u001b[2Kel 00:00:00, ep 0000, ts 000010, ar 10 010.0±000.0, 100 010.0±000.0, ex 100 0.2±0.0, ev 010.0±000.0\n",
      "\u001b[2Kel 00:00:10, ep 0099, ts 001324, ar 10 013.9±005.0, 100 013.2±003.4, ex 100 0.2±0.1, ev 009.2±000.8\n",
      "--> reached_max_episodes ✕\n",
      "Training complete.\n",
      "Final evaluation score 9.39±0.72 in 9.92s training time, 10.96s wall-clock time.\n",
      "\n",
      "render_mode: None\n",
      "\u001b[2Kel 00:00:00, ep 0000, ts 000012, ar 10 012.0±000.0, 100 012.0±000.0, ex 100 0.2±0.0, ev 010.0±000.0\n",
      "\u001b[2Kel 00:00:10, ep 0099, ts 001363, ar 10 013.3±003.5, 100 013.6±005.0, ex 100 0.2±0.1, ev 009.3±000.8\n",
      "--> reached_max_episodes ✕\n",
      "Training complete.\n",
      "Final evaluation score 9.37±0.73 in 10.24s training time, 10.59s wall-clock time.\n",
      "\n",
      "render_mode: None\n",
      "\u001b[2Kel 00:00:00, ep 0000, ts 000011, ar 10 011.0±000.0, 100 011.0±000.0, ex 100 0.2±0.0, ev 010.0±000.0\n",
      "\u001b[2Kel 00:00:10, ep 0099, ts 001363, ar 10 015.1±008.1, 100 013.6±004.4, ex 100 0.2±0.1, ev 009.4±000.8\n",
      "--> reached_max_episodes ✕\n",
      "Training complete.\n",
      "Final evaluation score 9.42±0.64 in 10.13s training time, 10.48s wall-clock time.\n",
      "\n",
      "render_mode: None\n",
      "\u001b[2Kel 00:00:00, ep 0000, ts 000069, ar 10 069.0±000.0, 100 069.0±000.0, ex 100 0.2±0.0, ev 059.0±000.0\n",
      "\u001b[2Kel 00:00:10, ep 0099, ts 002765, ar 10 014.7±005.0, 100 027.6±023.2, ex 100 0.2±0.1, ev 029.7±025.9\n",
      "--> reached_max_episodes ✕\n",
      "Training complete.\n",
      "Final evaluation score 9.35±0.75 in 10.29s training time, 10.79s wall-clock time.\n",
      "\n",
      "render_mode: None\n",
      "\u001b[2Kel 00:00:00, ep 0000, ts 000009, ar 10 009.0±000.0, 100 009.0±000.0, ex 100 0.2±0.0, ev 010.0±000.0\n",
      "\u001b[2Kel 00:00:10, ep 0099, ts 001368, ar 10 013.9±004.7, 100 013.7±005.7, ex 100 0.2±0.1, ev 009.4±000.8\n",
      "--> reached_max_episodes ✕\n",
      "Training complete.\n",
      "Final evaluation score 9.30±0.75 in 10.11s training time, 10.46s wall-clock time.\n",
      "\n",
      "\u0007"
     ]
    }
   ],
   "source": [
    "SEEDS = (12, 34, 56, 78, 90)\n",
    "\n",
    "nfq_results = []\n",
    "best_agent, best_eval_score = None, float('-inf')\n",
    "for seed in SEEDS:\n",
    "    environment_settings = {\n",
    "        'env_name': 'CartPole-v1',\n",
    "        'gamma': 1.00,\n",
    "        'max_minutes': 20,\n",
    "        'max_episodes': 100,\n",
    "        'goal_mean_100_reward': 475\n",
    "    }\n",
    "    \n",
    "    value_model_fn = lambda nS, nA: FCQ(nS, nA, hidden_dims=(512,128))\n",
    "    # value_optimizer_fn = lambda net, lr: optim.Adam(net.parameters(), lr=lr)\n",
    "    value_optimizer_fn = lambda net, lr: optim.RMSprop(net.parameters(), lr=lr)\n",
    "    value_optimizer_lr = 0.0005\n",
    "\n",
    "    training_strategy_fn = lambda: EGreedyStrategy(epsilon=0.5)\n",
    "    # evaluation_strategy_fn = lambda: EGreedyStrategy(epsilon=0.05)\n",
    "    evaluation_strategy_fn = lambda: GreedyStrategy()\n",
    "\n",
    "    batch_size = 1024\n",
    "    epochs = 4\n",
    "\n",
    "    env_name, gamma, max_minutes, \\\n",
    "    max_episodes, goal_mean_100_reward = environment_settings.values()\n",
    "    agent = NFQ(value_model_fn, \n",
    "                value_optimizer_fn, \n",
    "                value_optimizer_lr,\n",
    "                training_strategy_fn,\n",
    "                evaluation_strategy_fn,\n",
    "                batch_size,\n",
    "                epochs)\n",
    "\n",
    "    # make_env_fn, make_env_kargs = get_make_env_fn(\n",
    "    #     env_name=env_name, addon_wrappers=[DiscountedCartPole,])\n",
    "    make_env_fn, make_env_kargs = get_make_env_fn(env_name=env_name)\n",
    "    result, final_eval_score, training_time, wallclock_time = agent.train(\n",
    "        make_env_fn, make_env_kargs, seed, gamma, max_minutes, max_episodes, goal_mean_100_reward)\n",
    "    nfq_results.append(result)\n",
    "    if final_eval_score > best_eval_score:\n",
    "        best_eval_score = final_eval_score\n",
    "        best_agent = agent\n",
    "nfq_results = np.array(nfq_results)\n",
    "_ = BEEP()"
   ]
  },
  {
   "cell_type": "code",
   "execution_count": 8,
   "metadata": {},
   "outputs": [
    {
     "name": "stderr",
     "output_type": "stream",
     "text": [
      "INFO:root:Recording videos to: /tmp/gym-video-CartPole-v1-1c7bvs1n\n"
     ]
    },
    {
     "name": "stdout",
     "output_type": "stream",
     "text": [
      "Created environment 'CartPole-v1' with render mode: rgb_array\n",
      "render_mode: rgb_array\n"
     ]
    },
    {
     "ename": "RuntimeError",
     "evalue": "ffmpeg or convert not found in PATH",
     "output_type": "error",
     "traceback": [
      "\u001b[0;31m---------------------------------------------------------------------------\u001b[0m",
      "\u001b[0;31mRuntimeError\u001b[0m                              Traceback (most recent call last)",
      "Cell \u001b[0;32mIn[8], line 1\u001b[0m\n\u001b[0;32m----> 1\u001b[0m \u001b[43mbest_agent\u001b[49m\u001b[38;5;241;43m.\u001b[39;49m\u001b[43mdemo_progression\u001b[49m\u001b[43m(\u001b[49m\u001b[43m)\u001b[49m\n",
      "File \u001b[0;32m/workspaces/rl_resources/src/gdrl/ch8/nfq.py:332\u001b[0m, in \u001b[0;36mNFQ.demo_progression\u001b[0;34m(self, title, max_n_videos)\u001b[0m\n\u001b[1;32m    330\u001b[0m env\u001b[38;5;241m.\u001b[39mclose()\n\u001b[1;32m    331\u001b[0m env_videos \u001b[38;5;241m=\u001b[39m collect_env_videos(env)\n\u001b[0;32m--> 332\u001b[0m data \u001b[38;5;241m=\u001b[39m \u001b[43mget_gif_html\u001b[49m\u001b[43m(\u001b[49m\n\u001b[1;32m    333\u001b[0m \u001b[43m    \u001b[49m\u001b[43menv_videos\u001b[49m\u001b[38;5;241;43m=\u001b[39;49m\u001b[43menv_videos\u001b[49m\u001b[43m,\u001b[49m\n\u001b[1;32m    334\u001b[0m \u001b[43m    \u001b[49m\u001b[43mtitle\u001b[49m\u001b[38;5;241;43m=\u001b[39;49m\u001b[43mtitle\u001b[49m\u001b[38;5;241;43m.\u001b[39;49m\u001b[43mformat\u001b[49m\u001b[43m(\u001b[49m\u001b[38;5;28;43mself\u001b[39;49m\u001b[38;5;241;43m.\u001b[39;49m\u001b[38;5;18;43m__class__\u001b[39;49m\u001b[38;5;241;43m.\u001b[39;49m\u001b[38;5;18;43m__name__\u001b[39;49m\u001b[43m)\u001b[49m\u001b[43m,\u001b[49m\n\u001b[1;32m    335\u001b[0m \u001b[43m    \u001b[49m\u001b[43msubtitle_eps\u001b[49m\u001b[38;5;241;43m=\u001b[39;49m\u001b[38;5;28;43msorted\u001b[39;49m\u001b[43m(\u001b[49m\u001b[43mcheckpoint_paths\u001b[49m\u001b[38;5;241;43m.\u001b[39;49m\u001b[43mkeys\u001b[49m\u001b[43m(\u001b[49m\u001b[43m)\u001b[49m\u001b[43m)\u001b[49m\u001b[43m,\u001b[49m\n\u001b[1;32m    336\u001b[0m \u001b[43m    \u001b[49m\u001b[43mmax_n_videos\u001b[49m\u001b[38;5;241;43m=\u001b[39;49m\u001b[43mmax_n_videos\u001b[49m\u001b[43m,\u001b[49m\n\u001b[1;32m    337\u001b[0m \u001b[43m\u001b[49m\u001b[43m)\u001b[49m\n\u001b[1;32m    338\u001b[0m \u001b[38;5;28;01mdel\u001b[39;00m env\n\u001b[1;32m    339\u001b[0m \u001b[38;5;28;01mreturn\u001b[39;00m HTML(data\u001b[38;5;241m=\u001b[39mdata)\n",
      "File \u001b[0;32m/workspaces/rl_resources/src/gdrl/ch8/vis_utils.py:92\u001b[0m, in \u001b[0;36mget_gif_html\u001b[0;34m(env_videos, title, subtitle_eps, max_n_videos)\u001b[0m\n\u001b[1;32m     90\u001b[0m \u001b[38;5;28;01mif\u001b[39;00m ffmpeg_path \u001b[38;5;129;01mis\u001b[39;00m \u001b[38;5;28;01mNone\u001b[39;00m \u001b[38;5;129;01mor\u001b[39;00m convert_path \u001b[38;5;129;01mis\u001b[39;00m \u001b[38;5;28;01mNone\u001b[39;00m:\n\u001b[1;32m     91\u001b[0m     error_msg \u001b[38;5;241m=\u001b[39m \u001b[38;5;124m\"\u001b[39m\u001b[38;5;124mffmpeg or convert not found in PATH\u001b[39m\u001b[38;5;124m\"\u001b[39m\n\u001b[0;32m---> 92\u001b[0m     \u001b[38;5;28;01mraise\u001b[39;00m \u001b[38;5;167;01mRuntimeError\u001b[39;00m(error_msg)\n\u001b[1;32m     94\u001b[0m ps \u001b[38;5;241m=\u001b[39m subprocess\u001b[38;5;241m.\u001b[39mPopen(\n\u001b[1;32m     95\u001b[0m     (\n\u001b[1;32m     96\u001b[0m         ffmpeg_path,\n\u001b[0;32m   (...)\u001b[0m\n\u001b[1;32m    111\u001b[0m     stdout\u001b[38;5;241m=\u001b[39msubprocess\u001b[38;5;241m.\u001b[39mPIPE,\n\u001b[1;32m    112\u001b[0m )\n\u001b[1;32m    113\u001b[0m \u001b[38;5;66;03m# Ensure gif_path is a safe string and not user-controlled\u001b[39;00m\n",
      "\u001b[0;31mRuntimeError\u001b[0m: ffmpeg or convert not found in PATH"
     ]
    }
   ],
   "source": [
    "best_agent.demo_progression()"
   ]
  },
  {
   "cell_type": "code",
   "execution_count": null,
   "metadata": {},
   "outputs": [],
   "source": [
    "best_agent.demo_last()"
   ]
  },
  {
   "cell_type": "code",
   "execution_count": null,
   "metadata": {},
   "outputs": [],
   "source": [
    "nfq_max_t, nfq_max_r, nfq_max_s, \\\n",
    "    nfq_max_sec, nfq_max_rt = np.max(nfq_results, axis=0).T\n",
    "nfq_min_t, nfq_min_r, nfq_min_s, \\\n",
    "    nfq_min_sec, nfq_min_rt = np.min(nfq_results, axis=0).T\n",
    "nfq_mean_t, nfq_mean_r, nfq_mean_s, \\\n",
    "    nfq_mean_sec, nfq_mean_rt = np.mean(nfq_results, axis=0).T\n",
    "nfq_x = np.arange(len(nfq_mean_s))\n",
    "\n",
    "# nfq_max_t, nfq_max_r, nfq_max_s, \\\n",
    "#     nfq_max_sec, nfq_max_rt = np.nanmax(nfq_results, axis=0).T\n",
    "# nfq_min_t, nfq_min_r, nfq_min_s, \\\n",
    "#     nfq_min_sec, nfq_min_rt = np.nanmin(nfq_results, axis=0).T\n",
    "# nfq_mean_t, nfq_mean_r, nfq_mean_s, \\\n",
    "#     nfq_mean_sec, nfq_mean_rt = np.nanmean(nfq_results, axis=0).T\n",
    "# nfq_x = np.arange(len(nfq_mean_s))"
   ]
  },
  {
   "cell_type": "code",
   "execution_count": null,
   "metadata": {},
   "outputs": [],
   "source": [
    "fig, axs = plt.subplots(5, 1, figsize=(15,30), sharey=False, sharex=True)\n",
    "\n",
    "# NFQ\n",
    "axs[0].plot(nfq_max_r, 'y', linewidth=1)\n",
    "axs[0].plot(nfq_min_r, 'y', linewidth=1)\n",
    "axs[0].plot(nfq_mean_r, 'y', label='NFQ', linewidth=2)\n",
    "axs[0].fill_between(nfq_x, nfq_min_r, nfq_max_r, facecolor='y', alpha=0.3)\n",
    "\n",
    "axs[1].plot(nfq_max_s, 'y', linewidth=1)\n",
    "axs[1].plot(nfq_min_s, 'y', linewidth=1)\n",
    "axs[1].plot(nfq_mean_s, 'y', label='NFQ', linewidth=2)\n",
    "axs[1].fill_between(nfq_x, nfq_min_s, nfq_max_s, facecolor='y', alpha=0.3)\n",
    "\n",
    "axs[2].plot(nfq_max_t, 'y', linewidth=1)\n",
    "axs[2].plot(nfq_min_t, 'y', linewidth=1)\n",
    "axs[2].plot(nfq_mean_t, 'y', label='NFQ', linewidth=2)\n",
    "axs[2].fill_between(nfq_x, nfq_min_t, nfq_max_t, facecolor='y', alpha=0.3)\n",
    "\n",
    "axs[3].plot(nfq_max_sec, 'y', linewidth=1)\n",
    "axs[3].plot(nfq_min_sec, 'y', linewidth=1)\n",
    "axs[3].plot(nfq_mean_sec, 'y', label='NFQ', linewidth=2)\n",
    "axs[3].fill_between(nfq_x, nfq_min_sec, nfq_max_sec, facecolor='y', alpha=0.3)\n",
    "\n",
    "axs[4].plot(nfq_max_rt, 'y', linewidth=1)\n",
    "axs[4].plot(nfq_min_rt, 'y', linewidth=1)\n",
    "axs[4].plot(nfq_mean_rt, 'y', label='NFQ', linewidth=2)\n",
    "axs[4].fill_between(nfq_x, nfq_min_rt, nfq_max_rt, facecolor='y', alpha=0.3)\n",
    "\n",
    "# ALL\n",
    "axs[0].set_title('Moving Avg Reward (Training)')\n",
    "axs[1].set_title('Moving Avg Reward (Evaluation)')\n",
    "axs[2].set_title('Total Steps')\n",
    "axs[3].set_title('Training Time')\n",
    "axs[4].set_title('Wall-clock Time')\n",
    "plt.xlabel('Episodes')\n",
    "axs[0].legend(loc='upper left')\n",
    "plt.show()"
   ]
  },
  {
   "cell_type": "code",
   "execution_count": null,
   "metadata": {},
   "outputs": [],
   "source": [
    "nfq_root_dir = os.path.join(RESULTS_DIR, 'nfq')\n",
    "not os.path.exists(nfq_root_dir) and os.makedirs(nfq_root_dir)\n",
    "\n",
    "np.save(os.path.join(nfq_root_dir, 'x'), nfq_x)\n",
    "\n",
    "np.save(os.path.join(nfq_root_dir, 'max_r'), nfq_max_r)\n",
    "np.save(os.path.join(nfq_root_dir, 'min_r'), nfq_min_r)\n",
    "np.save(os.path.join(nfq_root_dir, 'mean_r'), nfq_mean_r)\n",
    "\n",
    "np.save(os.path.join(nfq_root_dir, 'max_s'), nfq_max_s)\n",
    "np.save(os.path.join(nfq_root_dir, 'min_s'), nfq_min_s )\n",
    "np.save(os.path.join(nfq_root_dir, 'mean_s'), nfq_mean_s)\n",
    "\n",
    "np.save(os.path.join(nfq_root_dir, 'max_t'), nfq_max_t)\n",
    "np.save(os.path.join(nfq_root_dir, 'min_t'), nfq_min_t)\n",
    "np.save(os.path.join(nfq_root_dir, 'mean_t'), nfq_mean_t)\n",
    "\n",
    "np.save(os.path.join(nfq_root_dir, 'max_sec'), nfq_max_sec)\n",
    "np.save(os.path.join(nfq_root_dir, 'min_sec'), nfq_min_sec)\n",
    "np.save(os.path.join(nfq_root_dir, 'mean_sec'), nfq_mean_sec)\n",
    "\n",
    "np.save(os.path.join(nfq_root_dir, 'max_rt'), nfq_max_rt)\n",
    "np.save(os.path.join(nfq_root_dir, 'min_rt'), nfq_min_rt)\n",
    "np.save(os.path.join(nfq_root_dir, 'mean_rt'), nfq_mean_rt)"
   ]
  },
  {
   "cell_type": "code",
   "execution_count": null,
   "metadata": {},
   "outputs": [],
   "source": []
  }
 ],
 "metadata": {
  "kernelspec": {
   "display_name": "Python 3 (ipykernel)",
   "language": "python",
   "name": "python3"
  },
  "language_info": {
   "codemirror_mode": {
    "name": "ipython",
    "version": 3
   },
   "file_extension": ".py",
   "mimetype": "text/x-python",
   "name": "python",
   "nbconvert_exporter": "python",
   "pygments_lexer": "ipython3",
   "version": "3.11.12"
  }
 },
 "nbformat": 4,
 "nbformat_minor": 4
}
