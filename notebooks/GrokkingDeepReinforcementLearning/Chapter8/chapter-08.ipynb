{
 "cells": [
  {
   "cell_type": "markdown",
   "metadata": {},
   "source": [
    "# Original Copyright notice\n",
    "Copyright (c) 2018, Miguel Morales\n",
    "All rights reserved.\n",
    "\n",
    "Redistribution and use in source and binary forms, with or without\n",
    "modification, are permitted provided that the following conditions are met:\n",
    "\n",
    "* Redistributions of source code must retain the above copyright notice, this\n",
    "  list of conditions and the following disclaimer.\n",
    "\n",
    "* Redistributions in binary form must reproduce the above copyright notice,\n",
    "  this list of conditions and the following disclaimer in the documentation\n",
    "  and/or other materials provided with the distribution.\n",
    "\n",
    "* Neither the name of the copyright holder nor the names of its\n",
    "  contributors may be used to endorse or promote products derived from\n",
    "  this software without specific prior written permission.\n",
    "\n",
    "THIS SOFTWARE IS PROVIDED BY THE COPYRIGHT HOLDERS AND CONTRIBUTORS \"AS IS\"\n",
    "AND ANY EXPRESS OR IMPLIED WARRANTIES, INCLUDING, BUT NOT LIMITED TO, THE\n",
    "IMPLIED WARRANTIES OF MERCHANTABILITY AND FITNESS FOR A PARTICULAR PURPOSE ARE\n",
    "DISCLAIMED. IN NO EVENT SHALL THE COPYRIGHT HOLDER OR CONTRIBUTORS BE LIABLE\n",
    "FOR ANY DIRECT, INDIRECT, INCIDENTAL, SPECIAL, EXEMPLARY, OR CONSEQUENTIAL\n",
    "DAMAGES (INCLUDING, BUT NOT LIMITED TO, PROCUREMENT OF SUBSTITUTE GOODS OR\n",
    "SERVICES; LOSS OF USE, DATA, OR PROFITS; OR BUSINESS INTERRUPTION) HOWEVER\n",
    "CAUSED AND ON ANY THEORY OF LIABILITY, WHETHER IN CONTRACT, STRICT LIABILITY,\n",
    "OR TORT (INCLUDING NEGLIGENCE OR OTHERWISE) ARISING IN ANY WAY OUT OF THE USE\n",
    "OF THIS SOFTWARE, EVEN IF ADVISED OF THE POSSIBILITY OF SUCH DAMAGE.\n",
    "\n",
    "## Original URL\n",
    "[Chapter 8 notebook](https://github.com/mimoralea/gdrl/blob/master/notebooks/chapter_08/chapter-08.ipynb)"
   ]
  },
  {
   "cell_type": "markdown",
   "metadata": {},
   "source": [
    "# NFQ"
   ]
  },
  {
   "cell_type": "code",
   "execution_count": 1,
   "metadata": {},
   "outputs": [
    {
     "name": "stdout",
     "output_type": "stream",
     "text": [
      "Mon May 26 15:58:45 2025       \n",
      "+-----------------------------------------------------------------------------------------+\n",
      "| NVIDIA-SMI 550.144.03             Driver Version: 550.144.03     CUDA Version: 12.4     |\n",
      "|-----------------------------------------+------------------------+----------------------+\n",
      "| GPU  Name                 Persistence-M | Bus-Id          Disp.A | Volatile Uncorr. ECC |\n",
      "| Fan  Temp   Perf          Pwr:Usage/Cap |           Memory-Usage | GPU-Util  Compute M. |\n",
      "|                                         |                        |               MIG M. |\n",
      "|=========================================+========================+======================|\n",
      "|   0  NVIDIA GeForce RTX 3050 ...    Off |   00000000:01:00.0 Off |                  N/A |\n",
      "| N/A   46C    P0             10W /   35W |       8MiB /   4096MiB |      0%      Default |\n",
      "|                                         |                        |                  N/A |\n",
      "+-----------------------------------------+------------------------+----------------------+\n",
      "                                                                                         \n",
      "+-----------------------------------------------------------------------------------------+\n",
      "| Processes:                                                                              |\n",
      "|  GPU   GI   CI        PID   Type   Process name                              GPU Memory |\n",
      "|        ID   ID                                                               Usage      |\n",
      "|=========================================================================================|\n",
      "+-----------------------------------------------------------------------------------------+\n"
     ]
    }
   ],
   "source": [
    "!nvidia-smi"
   ]
  },
  {
   "cell_type": "code",
   "execution_count": 2,
   "metadata": {},
   "outputs": [],
   "source": [
    "# Hack to load the gym_walk and gym_aima modules\n",
    "import sys\n",
    "import os\n",
    "   \n",
    "sys.path.append(os.path.abspath('../../../'))"
   ]
  },
  {
   "cell_type": "code",
   "execution_count": 3,
   "metadata": {},
   "outputs": [],
   "source": [
    "import warnings ; warnings.filterwarnings('ignore')\n",
    "import os\n",
    "\n",
    "import torch\n",
    "import torch.nn as nn\n",
    "import torch.nn.functional as F\n",
    "import torch.optim as optim\n",
    "\n",
    "import numpy as np\n",
    "from IPython.display import display\n",
    "from collections import namedtuple, deque\n",
    "import matplotlib.pyplot as plt\n",
    "import matplotlib.pylab as pylab\n",
    "from itertools import cycle, count\n",
    "from textwrap import wrap\n",
    "\n",
    "import matplotlib\n",
    "import subprocess\n",
    "import os.path\n",
    "import tempfile\n",
    "import random\n",
    "import base64\n",
    "import pprint\n",
    "import glob\n",
    "import time\n",
    "import json\n",
    "import sys\n",
    "import gymnasium as gym\n",
    "import io\n",
    "import os\n",
    "import gc\n",
    "\n",
    "from gymnasium import wrappers\n",
    "from subprocess import check_output\n",
    "from IPython.display import HTML\n",
    "\n",
    "%matplotlib inline"
   ]
  },
  {
   "cell_type": "code",
   "execution_count": 4,
   "metadata": {},
   "outputs": [],
   "source": [
    "plt.style.use('fivethirtyeight')\n",
    "params = {\n",
    "    'figure.figsize': (15, 8),\n",
    "    'font.size': 24,\n",
    "    'legend.fontsize': 20,\n",
    "    'axes.titlesize': 28,\n",
    "    'axes.labelsize': 24,\n",
    "    'xtick.labelsize': 20,\n",
    "    'ytick.labelsize': 20\n",
    "}\n",
    "pylab.rcParams.update(params)\n",
    "np.set_printoptions(suppress=True)"
   ]
  },
  {
   "cell_type": "code",
   "execution_count": 5,
   "metadata": {},
   "outputs": [
    {
     "data": {
      "text/plain": [
       "False"
      ]
     },
     "execution_count": 5,
     "metadata": {},
     "output_type": "execute_result"
    }
   ],
   "source": [
    "torch.cuda.is_available()"
   ]
  },
  {
   "cell_type": "markdown",
   "metadata": {},
   "source": [
    "# NFQ"
   ]
  },
  {
   "cell_type": "code",
   "execution_count": 6,
   "metadata": {},
   "outputs": [],
   "source": [
    "from src.gdrl.ch8 import FCQ, EGreedyStrategy,GreedyStrategy, NFQ, BEEP\n",
    "from src.gdrl.ch8.env_utils import get_make_env_fn"
   ]
  },
  {
   "cell_type": "code",
   "execution_count": 7,
   "metadata": {
    "scrolled": true
   },
   "outputs": [
    {
     "name": "stdout",
     "output_type": "stream",
     "text": [
      "render_mode: None\n",
      "\u001b[2Kel 00:00:01, ep 0000, ts 000010, ar 10 010.0±000.0, 100 010.0±000.0, ex 100 0.2±0.0, ev 008.0±000.0\n",
      "\u001b[2Kel 00:00:12, ep 0099, ts 001321, ar 10 015.2±007.1, 100 013.2±004.9, ex 100 0.2±0.1, ev 009.4±000.7\n",
      "--> reached_max_episodes ✕\n",
      "Training complete.\n",
      "Final evaluation score 9.34±0.76 in 10.91s training time, 12.15s wall-clock time.\n",
      "\n",
      "render_mode: None\n",
      "\u001b[2Kel 00:00:00, ep 0000, ts 000012, ar 10 012.0±000.0, 100 012.0±000.0, ex 100 0.2±0.0, ev 009.0±000.0\n",
      "\u001b[2Kel 00:00:11, ep 0099, ts 001430, ar 10 015.3±005.6, 100 014.3±005.1, ex 100 0.2±0.1, ev 009.3±000.7\n",
      "--> reached_max_episodes ✕\n",
      "Training complete.\n",
      "Final evaluation score 9.43±0.71 in 10.84s training time, 11.17s wall-clock time.\n",
      "\n",
      "render_mode: None\n",
      "\u001b[2Kel 00:00:00, ep 0000, ts 000011, ar 10 011.0±000.0, 100 011.0±000.0, ex 100 0.2±0.0, ev 010.0±000.0\n",
      "\u001b[2Kel 00:00:11, ep 0099, ts 001384, ar 10 016.4±006.7, 100 013.8±004.3, ex 100 0.2±0.1, ev 009.3±000.8\n",
      "--> reached_max_episodes ✕\n",
      "Training complete.\n",
      "Final evaluation score 9.26±0.77 in 11.08s training time, 11.43s wall-clock time.\n",
      "\n",
      "render_mode: None\n",
      "\u001b[2Kel 00:00:00, ep 0000, ts 000100, ar 10 100.0±000.0, 100 100.0±000.0, ex 100 0.2±0.0, ev 075.0±000.0\n",
      "\u001b[2Kel 00:00:11, ep 0099, ts 002775, ar 10 010.9±002.8, 100 027.8±022.5, ex 100 0.2±0.1, ev 031.1±027.5\n",
      "--> reached_max_episodes ✕\n",
      "Training complete.\n",
      "Final evaluation score 9.38±0.70 in 10.85s training time, 11.38s wall-clock time.\n",
      "\n",
      "render_mode: None\n",
      "\u001b[2Kel 00:00:00, ep 0000, ts 000011, ar 10 011.0±000.0, 100 011.0±000.0, ex 100 0.3±0.0, ev 009.0±000.0\n",
      "\u001b[2Kel 00:00:10, ep 0099, ts 001350, ar 10 012.9±002.2, 100 013.5±004.7, ex 100 0.2±0.1, ev 009.4±000.7\n",
      "--> reached_max_episodes ✕\n",
      "Training complete.\n",
      "Final evaluation score 9.36±0.66 in 10.64s training time, 10.99s wall-clock time.\n",
      "\n",
      "\u0007"
     ]
    }
   ],
   "source": [
    "SEEDS = (12, 34, 56, 78, 90)\n",
    "\n",
    "nfq_results = []\n",
    "best_agent, best_eval_score = None, float('-inf')\n",
    "for seed in SEEDS:\n",
    "    environment_settings = {\n",
    "        'env_name': 'CartPole-v1',\n",
    "        'gamma': 1.00,\n",
    "        'max_minutes': 20,\n",
    "        'max_episodes': 100,\n",
    "        'goal_mean_100_reward': 475\n",
    "    }\n",
    "    \n",
    "    value_model_fn = lambda nS, nA: FCQ(nS, nA, hidden_dims=(512,128))\n",
    "    # value_optimizer_fn = lambda net, lr: optim.Adam(net.parameters(), lr=lr)\n",
    "    value_optimizer_fn = lambda net, lr: optim.RMSprop(net.parameters(), lr=lr)\n",
    "    value_optimizer_lr = 0.0005\n",
    "\n",
    "    training_strategy_fn = lambda: EGreedyStrategy(epsilon=0.5)\n",
    "    # evaluation_strategy_fn = lambda: EGreedyStrategy(epsilon=0.05)\n",
    "    evaluation_strategy_fn = lambda: GreedyStrategy()\n",
    "\n",
    "    batch_size = 1024\n",
    "    epochs = 4\n",
    "\n",
    "    env_name, gamma, max_minutes, \\\n",
    "    max_episodes, goal_mean_100_reward = environment_settings.values()\n",
    "    agent = NFQ(value_model_fn, \n",
    "                value_optimizer_fn, \n",
    "                value_optimizer_lr,\n",
    "                training_strategy_fn,\n",
    "                evaluation_strategy_fn,\n",
    "                batch_size,\n",
    "                epochs)\n",
    "\n",
    "    # make_env_fn, make_env_kargs = get_make_env_fn(\n",
    "    #     env_name=env_name, addon_wrappers=[DiscountedCartPole,])\n",
    "    make_env_fn, make_env_kargs = get_make_env_fn(env_name=env_name)\n",
    "    result, final_eval_score, training_time, wallclock_time = agent.train(\n",
    "        make_env_fn, make_env_kargs, seed, gamma, max_minutes, max_episodes, goal_mean_100_reward)\n",
    "    nfq_results.append(result)\n",
    "    if final_eval_score > best_eval_score:\n",
    "        best_eval_score = final_eval_score\n",
    "        best_agent = agent\n",
    "nfq_results = np.array(nfq_results)\n",
    "_ = BEEP()"
   ]
  },
  {
   "cell_type": "code",
   "execution_count": 8,
   "metadata": {},
   "outputs": [
    {
     "name": "stderr",
     "output_type": "stream",
     "text": [
      "INFO:root:Recording videos to: /tmp/gym-video-CartPole-v1-u8uhubu3\n"
     ]
    },
    {
     "name": "stdout",
     "output_type": "stream",
     "text": [
      "Created environment 'CartPole-v1' with render mode: rgb_array\n",
      "render_mode: rgb_array\n"
     ]
    },
    {
     "name": "stderr",
     "output_type": "stream",
     "text": [
      "ffmpeg version 4.4.2-0ubuntu0.22.04.1 Copyright (c) 2000-2021 the FFmpeg developers\n",
      "  built with gcc 11 (Ubuntu 11.2.0-19ubuntu1)\n",
      "  configuration: --prefix=/usr --extra-version=0ubuntu0.22.04.1 --toolchain=hardened --libdir=/usr/lib/x86_64-linux-gnu --incdir=/usr/include/x86_64-linux-gnu --arch=amd64 --enable-gpl --disable-stripping --enable-gnutls --enable-ladspa --enable-libaom --enable-libass --enable-libbluray --enable-libbs2b --enable-libcaca --enable-libcdio --enable-libcodec2 --enable-libdav1d --enable-libflite --enable-libfontconfig --enable-libfreetype --enable-libfribidi --enable-libgme --enable-libgsm --enable-libjack --enable-libmp3lame --enable-libmysofa --enable-libopenjpeg --enable-libopenmpt --enable-libopus --enable-libpulse --enable-librabbitmq --enable-librubberband --enable-libshine --enable-libsnappy --enable-libsoxr --enable-libspeex --enable-libsrt --enable-libssh --enable-libtheora --enable-libtwolame --enable-libvidstab --enable-libvorbis --enable-libvpx --enable-libwebp --enable-libx265 --enable-libxml2 --enable-libxvid --enable-libzimg --enable-libzmq --enable-libzvbi --enable-lv2 --enable-omx --enable-openal --enable-opencl --enable-opengl --enable-sdl2 --enable-pocketsphinx --enable-librsvg --enable-libmfx --enable-libdc1394 --enable-libdrm --enable-libiec61883 --enable-chromaprint --enable-frei0r --enable-libx264 --enable-shared\n",
      "  libavutil      56. 70.100 / 56. 70.100\n",
      "  libavcodec     58.134.100 / 58.134.100\n",
      "  libavformat    58. 76.100 / 58. 76.100\n",
      "  libavdevice    58. 13.100 / 58. 13.100\n",
      "  libavfilter     7.110.100 /  7.110.100\n",
      "  libswscale      5.  9.100 /  5.  9.100\n",
      "  libswresample   3.  9.100 /  3.  9.100\n",
      "  libpostproc    55.  9.100 / 55.  9.100\n",
      "Input #0, mov,mp4,m4a,3gp,3g2,mj2, from '/tmp/gym-video-CartPole-v1-u8uhubu3/rl-video-CartPole-v1-episode-0.mp4':\n",
      "  Metadata:\n",
      "    major_brand     : isom\n",
      "    minor_version   : 512\n",
      "    compatible_brands: isomiso2avc1mp41\n",
      "    encoder         : Lavf61.1.100\n",
      "  Duration: 00:00:00.20, start: 0.000000, bitrate: 120 kb/s\n",
      "  Stream #0:0(und): Video: h264 (High) (avc1 / 0x31637661), yuv420p, 600x400, 81 kb/s, 50 fps, 50 tbr, 12800 tbn, 100 tbc (default)\n",
      "    Metadata:\n",
      "      handler_name    : VideoHandler\n",
      "      vendor_id       : [0][0][0][0]\n",
      "      encoder         : Lavc61.3.100 libx264\n",
      "Codec AVOption crf (Select the quality for constant quality mode) specified for output file #0 (pipe:) has not been used for any stream. The most likely reason is either wrong type (e.g. a video option with no video streams) or that it is a private option of some encoder which was not actually used for any stream.\n",
      "Stream mapping:\n",
      "  Stream #0:0 -> #0:0 (h264 (native) -> ppm (native))\n",
      "Press [q] to stop, [?] for help\n",
      "Output #0, image2pipe, to 'pipe:':\n",
      "  Metadata:\n",
      "    major_brand     : isom\n",
      "    minor_version   : 512\n",
      "    compatible_brands: isomiso2avc1mp41\n",
      "    encoder         : Lavf58.76.100\n",
      "  Stream #0:0(und): Video: ppm, rgb24(pc, gbr/unknown/unknown, progressive), 512x341, q=2-31, 200 kb/s, 7 fps, 7 tbn (default)\n",
      "    Metadata:\n",
      "      handler_name    : VideoHandler\n",
      "      vendor_id       : [0][0][0][0]\n",
      "      encoder         : Lavc58.134.100 ppm\n",
      "frame=    3 fps=0.0 q=-0.0 Lsize=    1535kB time=00:00:00.42 bitrate=29332.3kbits/s dup=0 drop=7 speed=18.2x    \n",
      "video:1535kB audio:0kB subtitle:0kB other streams:0kB global headers:0kB muxing overhead: 0.000000%\n"
     ]
    },
    {
     "ename": "AttributeError",
     "evalue": "'list' object has no attribute 'get'",
     "output_type": "error",
     "traceback": [
      "\u001b[31m---------------------------------------------------------------------------\u001b[39m",
      "\u001b[31mAttributeError\u001b[39m                            Traceback (most recent call last)",
      "\u001b[36mCell\u001b[39m\u001b[36m \u001b[39m\u001b[32mIn[8]\u001b[39m\u001b[32m, line 1\u001b[39m\n\u001b[32m----> \u001b[39m\u001b[32m1\u001b[39m \u001b[43mbest_agent\u001b[49m\u001b[43m.\u001b[49m\u001b[43mdemo_progression\u001b[49m\u001b[43m(\u001b[49m\u001b[43m)\u001b[49m\n",
      "\u001b[36mFile \u001b[39m\u001b[32m/workspaces/rl_resources/src/gdrl/ch8/nfq.py:332\u001b[39m, in \u001b[36mNFQ.demo_progression\u001b[39m\u001b[34m(self, title, max_n_videos)\u001b[39m\n\u001b[32m    330\u001b[39m env.close()\n\u001b[32m    331\u001b[39m env_videos = collect_env_videos(env)\n\u001b[32m--> \u001b[39m\u001b[32m332\u001b[39m data = \u001b[43mget_gif_html\u001b[49m\u001b[43m(\u001b[49m\n\u001b[32m    333\u001b[39m \u001b[43m    \u001b[49m\u001b[43menv_videos\u001b[49m\u001b[43m=\u001b[49m\u001b[43menv_videos\u001b[49m\u001b[43m,\u001b[49m\n\u001b[32m    334\u001b[39m \u001b[43m    \u001b[49m\u001b[43mtitle\u001b[49m\u001b[43m=\u001b[49m\u001b[43mtitle\u001b[49m\u001b[43m.\u001b[49m\u001b[43mformat\u001b[49m\u001b[43m(\u001b[49m\u001b[38;5;28;43mself\u001b[39;49m\u001b[43m.\u001b[49m\u001b[34;43m__class__\u001b[39;49m\u001b[43m.\u001b[49m\u001b[34;43m__name__\u001b[39;49m\u001b[43m)\u001b[49m\u001b[43m,\u001b[49m\n\u001b[32m    335\u001b[39m \u001b[43m    \u001b[49m\u001b[43msubtitle_eps\u001b[49m\u001b[43m=\u001b[49m\u001b[38;5;28;43msorted\u001b[39;49m\u001b[43m(\u001b[49m\u001b[43mcheckpoint_paths\u001b[49m\u001b[43m.\u001b[49m\u001b[43mkeys\u001b[49m\u001b[43m(\u001b[49m\u001b[43m)\u001b[49m\u001b[43m)\u001b[49m\u001b[43m,\u001b[49m\n\u001b[32m    336\u001b[39m \u001b[43m    \u001b[49m\u001b[43mmax_n_videos\u001b[49m\u001b[43m=\u001b[49m\u001b[43mmax_n_videos\u001b[49m\u001b[43m,\u001b[49m\n\u001b[32m    337\u001b[39m \u001b[43m\u001b[49m\u001b[43m)\u001b[49m\n\u001b[32m    338\u001b[39m \u001b[38;5;28;01mdel\u001b[39;00m env\n\u001b[32m    339\u001b[39m \u001b[38;5;28;01mreturn\u001b[39;00m HTML(data=data)\n",
      "\u001b[36mFile \u001b[39m\u001b[32m/workspaces/rl_resources/src/gdrl/ch8/vis_utils.py:155\u001b[39m, in \u001b[36mget_gif_html\u001b[39m\u001b[34m(env_videos, title, subtitle_eps, max_n_videos)\u001b[39m\n\u001b[32m    148\u001b[39m     html_tag = \u001b[33m\"\"\"\u001b[39m\n\u001b[32m    149\u001b[39m \u001b[33m    <h3>\u001b[39m\u001b[38;5;132;01m{0}\u001b[39;00m\u001b[33m<h3/>\u001b[39m\n\u001b[32m    150\u001b[39m \u001b[33m    <img src=\u001b[39m\u001b[33m\"\u001b[39m\u001b[33mdata:image/gif;base64,\u001b[39m\u001b[38;5;132;01m{1}\u001b[39;00m\u001b[33m\"\u001b[39m\u001b[33m />\u001b[39m\u001b[33m\"\"\"\u001b[39m\n\u001b[32m    151\u001b[39m     prefix = \u001b[33m\"\u001b[39m\u001b[33mTrial \u001b[39m\u001b[33m\"\u001b[39m \u001b[38;5;28;01mif\u001b[39;00m subtitle_eps \u001b[38;5;129;01mis\u001b[39;00m \u001b[38;5;28;01mNone\u001b[39;00m \u001b[38;5;28;01melse\u001b[39;00m \u001b[33m\"\u001b[39m\u001b[33mEpisode \u001b[39m\u001b[33m\"\u001b[39m\n\u001b[32m    152\u001b[39m     sufix = \u001b[38;5;28mstr\u001b[39m(\n\u001b[32m    153\u001b[39m         episode_id\n\u001b[32m    154\u001b[39m         \u001b[38;5;28;01mif\u001b[39;00m subtitle_eps \u001b[38;5;129;01mis\u001b[39;00m \u001b[38;5;28;01mNone\u001b[39;00m\n\u001b[32m--> \u001b[39m\u001b[32m155\u001b[39m         \u001b[38;5;28;01melse\u001b[39;00m \u001b[43msubtitle_eps\u001b[49m\u001b[43m.\u001b[49m\u001b[43mget\u001b[49m(episode_id, episode_id)\n\u001b[32m    156\u001b[39m     )\n\u001b[32m    157\u001b[39m     strm += html_tag.format(prefix + sufix, encoded.decode(\u001b[33m\"\u001b[39m\u001b[33mascii\u001b[39m\u001b[33m\"\u001b[39m))\n\u001b[32m    158\u001b[39m \u001b[38;5;28;01mreturn\u001b[39;00m strm\n",
      "\u001b[31mAttributeError\u001b[39m: 'list' object has no attribute 'get'"
     ]
    }
   ],
   "source": [
    "best_agent.demo_progression()"
   ]
  },
  {
   "cell_type": "code",
   "execution_count": null,
   "metadata": {},
   "outputs": [],
   "source": [
    "best_agent.demo_last()"
   ]
  },
  {
   "cell_type": "code",
   "execution_count": null,
   "metadata": {},
   "outputs": [],
   "source": [
    "nfq_max_t, nfq_max_r, nfq_max_s, \\\n",
    "    nfq_max_sec, nfq_max_rt = np.max(nfq_results, axis=0).T\n",
    "nfq_min_t, nfq_min_r, nfq_min_s, \\\n",
    "    nfq_min_sec, nfq_min_rt = np.min(nfq_results, axis=0).T\n",
    "nfq_mean_t, nfq_mean_r, nfq_mean_s, \\\n",
    "    nfq_mean_sec, nfq_mean_rt = np.mean(nfq_results, axis=0).T\n",
    "nfq_x = np.arange(len(nfq_mean_s))\n",
    "\n",
    "# nfq_max_t, nfq_max_r, nfq_max_s, \\\n",
    "#     nfq_max_sec, nfq_max_rt = np.nanmax(nfq_results, axis=0).T\n",
    "# nfq_min_t, nfq_min_r, nfq_min_s, \\\n",
    "#     nfq_min_sec, nfq_min_rt = np.nanmin(nfq_results, axis=0).T\n",
    "# nfq_mean_t, nfq_mean_r, nfq_mean_s, \\\n",
    "#     nfq_mean_sec, nfq_mean_rt = np.nanmean(nfq_results, axis=0).T\n",
    "# nfq_x = np.arange(len(nfq_mean_s))"
   ]
  },
  {
   "cell_type": "code",
   "execution_count": null,
   "metadata": {},
   "outputs": [],
   "source": [
    "fig, axs = plt.subplots(5, 1, figsize=(15,30), sharey=False, sharex=True)\n",
    "\n",
    "# NFQ\n",
    "axs[0].plot(nfq_max_r, 'y', linewidth=1)\n",
    "axs[0].plot(nfq_min_r, 'y', linewidth=1)\n",
    "axs[0].plot(nfq_mean_r, 'y', label='NFQ', linewidth=2)\n",
    "axs[0].fill_between(nfq_x, nfq_min_r, nfq_max_r, facecolor='y', alpha=0.3)\n",
    "\n",
    "axs[1].plot(nfq_max_s, 'y', linewidth=1)\n",
    "axs[1].plot(nfq_min_s, 'y', linewidth=1)\n",
    "axs[1].plot(nfq_mean_s, 'y', label='NFQ', linewidth=2)\n",
    "axs[1].fill_between(nfq_x, nfq_min_s, nfq_max_s, facecolor='y', alpha=0.3)\n",
    "\n",
    "axs[2].plot(nfq_max_t, 'y', linewidth=1)\n",
    "axs[2].plot(nfq_min_t, 'y', linewidth=1)\n",
    "axs[2].plot(nfq_mean_t, 'y', label='NFQ', linewidth=2)\n",
    "axs[2].fill_between(nfq_x, nfq_min_t, nfq_max_t, facecolor='y', alpha=0.3)\n",
    "\n",
    "axs[3].plot(nfq_max_sec, 'y', linewidth=1)\n",
    "axs[3].plot(nfq_min_sec, 'y', linewidth=1)\n",
    "axs[3].plot(nfq_mean_sec, 'y', label='NFQ', linewidth=2)\n",
    "axs[3].fill_between(nfq_x, nfq_min_sec, nfq_max_sec, facecolor='y', alpha=0.3)\n",
    "\n",
    "axs[4].plot(nfq_max_rt, 'y', linewidth=1)\n",
    "axs[4].plot(nfq_min_rt, 'y', linewidth=1)\n",
    "axs[4].plot(nfq_mean_rt, 'y', label='NFQ', linewidth=2)\n",
    "axs[4].fill_between(nfq_x, nfq_min_rt, nfq_max_rt, facecolor='y', alpha=0.3)\n",
    "\n",
    "# ALL\n",
    "axs[0].set_title('Moving Avg Reward (Training)')\n",
    "axs[1].set_title('Moving Avg Reward (Evaluation)')\n",
    "axs[2].set_title('Total Steps')\n",
    "axs[3].set_title('Training Time')\n",
    "axs[4].set_title('Wall-clock Time')\n",
    "plt.xlabel('Episodes')\n",
    "axs[0].legend(loc='upper left')\n",
    "plt.show()"
   ]
  },
  {
   "cell_type": "code",
   "execution_count": null,
   "metadata": {},
   "outputs": [],
   "source": [
    "nfq_root_dir = os.path.join(RESULTS_DIR, 'nfq')\n",
    "not os.path.exists(nfq_root_dir) and os.makedirs(nfq_root_dir)\n",
    "\n",
    "np.save(os.path.join(nfq_root_dir, 'x'), nfq_x)\n",
    "\n",
    "np.save(os.path.join(nfq_root_dir, 'max_r'), nfq_max_r)\n",
    "np.save(os.path.join(nfq_root_dir, 'min_r'), nfq_min_r)\n",
    "np.save(os.path.join(nfq_root_dir, 'mean_r'), nfq_mean_r)\n",
    "\n",
    "np.save(os.path.join(nfq_root_dir, 'max_s'), nfq_max_s)\n",
    "np.save(os.path.join(nfq_root_dir, 'min_s'), nfq_min_s )\n",
    "np.save(os.path.join(nfq_root_dir, 'mean_s'), nfq_mean_s)\n",
    "\n",
    "np.save(os.path.join(nfq_root_dir, 'max_t'), nfq_max_t)\n",
    "np.save(os.path.join(nfq_root_dir, 'min_t'), nfq_min_t)\n",
    "np.save(os.path.join(nfq_root_dir, 'mean_t'), nfq_mean_t)\n",
    "\n",
    "np.save(os.path.join(nfq_root_dir, 'max_sec'), nfq_max_sec)\n",
    "np.save(os.path.join(nfq_root_dir, 'min_sec'), nfq_min_sec)\n",
    "np.save(os.path.join(nfq_root_dir, 'mean_sec'), nfq_mean_sec)\n",
    "\n",
    "np.save(os.path.join(nfq_root_dir, 'max_rt'), nfq_max_rt)\n",
    "np.save(os.path.join(nfq_root_dir, 'min_rt'), nfq_min_rt)\n",
    "np.save(os.path.join(nfq_root_dir, 'mean_rt'), nfq_mean_rt)"
   ]
  },
  {
   "cell_type": "code",
   "execution_count": null,
   "metadata": {},
   "outputs": [],
   "source": []
  }
 ],
 "metadata": {
  "kernelspec": {
   "display_name": "Python 3 (ipykernel)",
   "language": "python",
   "name": "python3"
  },
  "language_info": {
   "codemirror_mode": {
    "name": "ipython",
    "version": 3
   },
   "file_extension": ".py",
   "mimetype": "text/x-python",
   "name": "python",
   "nbconvert_exporter": "python",
   "pygments_lexer": "ipython3",
   "version": "3.11.12"
  }
 },
 "nbformat": 4,
 "nbformat_minor": 4
}
