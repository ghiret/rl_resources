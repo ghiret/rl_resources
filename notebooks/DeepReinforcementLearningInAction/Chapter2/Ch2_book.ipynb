{
 "cells": [
  {
   "cell_type": "markdown",
   "metadata": {},
   "source": [
    "# Chaper 2 - N-armed Bandits\n",
    "### Deep Reinforcement Learning _in Action_\n",
    "Original source for the [Deep Reinforcement Learning in Action - Chapter 2 Notebook](https://github.com/DeepReinforcementLearning/DeepReinforcementLearningInAction/blob/master/Chapter%202/Ch2_book.ipynb)\n",
    "  > Note: This notebook was originally created by the authors of \"Deep Reinforcement Learning in Action\" and is included here for pedagogical purposes. All credit goes to the original authors.\n",
    "\n"
   ]
  },
  {
   "cell_type": "code",
   "execution_count": 102,
   "metadata": {},
   "outputs": [],
   "source": [
    "from typing import List\n"
   ]
  },
  {
   "cell_type": "markdown",
   "metadata": {},
   "source": [
    "##### Listing 2.1"
   ]
  },
  {
   "cell_type": "code",
   "execution_count": 10,
   "metadata": {},
   "outputs": [],
   "source": [
    "def get_best_action(actions: List[int]) -> int:\n",
    "\t\"\"\"Get the best action from a list of actions.\n",
    "\t\n",
    "\tArgs:\n",
    "\t\tactions (List[int]): The list of actions to choose from.\n",
    "\t\t\n",
    "\tReturns:\n",
    "\t\tint: The index of the best action.\n",
    "\t\"\"\"\n",
    "\tbest_action = 0\n",
    "\tmax_action_value = 0\n",
    "\tfor i in range(len(actions)): #A \n",
    "\t\tcur_action_value = get_action_value(actions[i]) # This is the Q-value function for the action\n",
    "\t\tif cur_action_value > max_action_value:\n",
    "\t\t\tbest_action = i\n",
    "\t\t\tmax_action_value = cur_action_value\n",
    "\treturn best_action"
   ]
  },
  {
   "cell_type": "markdown",
   "metadata": {},
   "source": [
    "##### Listing 2.2"
   ]
  },
  {
   "cell_type": "code",
   "execution_count": 11,
   "metadata": {},
   "outputs": [],
   "source": [
    "import numpy as np\n",
    "import random\n",
    "import matplotlib.pyplot as plt\n",
    "\n",
    "n = 10\n",
    "probs = np.random.rand(n) #A\n",
    "eps = 0.1"
   ]
  },
  {
   "cell_type": "markdown",
   "metadata": {},
   "source": [
    "##### Listing 2.3"
   ]
  },
  {
   "cell_type": "code",
   "execution_count": 12,
   "metadata": {},
   "outputs": [],
   "source": [
    "def get_reward(prob: float, n: int = 10) -> int:\n",
    "    \"\"\"Generate a reward for the n-armed bandit game.\n",
    "        This is a simple implementation of the probability \n",
    "        that takes a maximum reward and does 'n' trials and \n",
    "        compares to the probability 'prob' to see if it adds '1' to the reward.\n",
    "    \n",
    "    Args:\n",
    "        prob (float): The probability attached to a particular arm to generate a reward.\n",
    "        n (int): The maximum reward that can be attained in this game. In this implementation it is independent of the particular arm.\n",
    "        \n",
    "    \"\"\"\n",
    "    reward = 0;\n",
    "    for i in range(n):\n",
    "        if random.random() < prob:\n",
    "            reward += 1\n",
    "    return reward"
   ]
  },
  {
   "cell_type": "markdown",
   "metadata": {},
   "source": [
    "As the code samples a uniform distribution, the result of the reward for a large number of tries will tend, by the law of large numbers, to `n*prob`."
   ]
  },
  {
   "cell_type": "code",
   "execution_count": 13,
   "metadata": {},
   "outputs": [],
   "source": [
    "reward_test = [get_reward(0.7) for _ in range(2000)]"
   ]
  },
  {
   "cell_type": "markdown",
   "metadata": {},
   "source": [
    "In this case, as we have `prob=0.7` and `n=10`, the average reward after 2000 experiments will be close to `7`"
   ]
  },
  {
   "cell_type": "code",
   "execution_count": 14,
   "metadata": {},
   "outputs": [
    {
     "data": {
      "text/plain": [
       "np.float64(6.995)"
      ]
     },
     "execution_count": 14,
     "metadata": {},
     "output_type": "execute_result"
    }
   ],
   "source": [
    "np.mean(reward_test)"
   ]
  },
  {
   "cell_type": "code",
   "execution_count": 16,
   "metadata": {},
   "outputs": [
    {
     "data": {
      "text/plain": [
       "22"
      ]
     },
     "execution_count": 16,
     "metadata": {},
     "output_type": "execute_result"
    }
   ],
   "source": [
    "sum = 0\n",
    "x = [4,5,6,7]\n",
    "for j in range(len(x)): \n",
    "\tsum = sum + x[j]\n",
    "sum"
   ]
  },
  {
   "cell_type": "markdown",
   "metadata": {},
   "source": [
    "Plotting the distribution, it can be seen that he average tends to `n*prob` which in this case is `7` but the distribution is wider and some times the reward will be below the average and sometimes over."
   ]
  },
  {
   "cell_type": "code",
   "execution_count": 15,
   "metadata": {},
   "outputs": [
    {
     "data": {
      "text/plain": [
       "(array([  1.,  14.,  81., 199., 416., 527., 474., 230.,  58.]),\n",
       " array([ 2.        ,  2.88888889,  3.77777778,  4.66666667,  5.55555556,\n",
       "         6.44444444,  7.33333333,  8.22222222,  9.11111111, 10.        ]),\n",
       " <BarContainer object of 9 artists>)"
      ]
     },
     "execution_count": 15,
     "metadata": {},
     "output_type": "execute_result"
    },
    {
     "data": {
      "image/png": "[encoded data removed]",
      "text/plain": [
       "<Figure size 900x500 with 1 Axes>"
      ]
     },
     "metadata": {},
     "output_type": "display_data"
    }
   ],
   "source": [
    "plt.figure(figsize=(9,5))\n",
    "plt.xlabel(\"Reward\",fontsize=22)\n",
    "plt.ylabel(\"# Observations\",fontsize=22)\n",
    "plt.hist(reward_test,bins=9)"
   ]
  },
  {
   "cell_type": "markdown",
   "metadata": {},
   "source": [
    "##### Listing 2.4"
   ]
  },
  {
   "cell_type": "markdown",
   "metadata": {},
   "source": [
    "For the n-arm bandid we keep the reward in a matrix. The rows represent the actions. The first column will keep count of how many times that arm has been pulled, and the second column keeps track of the average reward."
   ]
  },
  {
   "cell_type": "code",
   "execution_count": 31,
   "metadata": {},
   "outputs": [],
   "source": [
    "# 10 actions x 2 columns\n",
    "# Columns: # of times pulled, Avg Reward\n",
    "record = np.zeros((n,2))"
   ]
  },
  {
   "cell_type": "code",
   "execution_count": 32,
   "metadata": {},
   "outputs": [],
   "source": [
    "def get_best_arm(record: np.ndarray) -> int:\n",
    "    \"\"\"Get the best arm based on the average reward.\n",
    "    Args:\n",
    "        record (np.ndarray) [n actions, 2 columns]: The record of the actions \n",
    "                                                    # Columns: # of times pulled, Avg Reward\n",
    "        \n",
    "    Returns:\n",
    "        int: The index of the best arm.\n",
    "    \"\"\"\n",
    "    arm_index = np.argmax(record[:,1],axis=0)\n",
    "    return arm_index"
   ]
  },
  {
   "cell_type": "code",
   "execution_count": 33,
   "metadata": {},
   "outputs": [],
   "source": [
    "def update_record(record: np.ndarray, action: int, r: int) -> np.ndarray:\n",
    "    \"\"\"Update the record of the actions.\n",
    "    Args:\n",
    "        record (np.ndarray) [n actions, 2 columns]: The record of the actions \n",
    "                                                    # Columns: # of times pulled, Avg Reward\n",
    "        action (int): The action to update the record for.\n",
    "        r (int): The reward for the action.\n",
    "    \"\"\"\n",
    "    # Compute the new average reward of the action\n",
    "    new_r = (record[action,0] * record[action,1] + r) / (record[action,0] + 1)\n",
    "    # Update the count of the action\n",
    "    record[action,0] += 1\n",
    "    # Update the average reward of the action\n",
    "    record[action,1] = new_r\n",
    "    return record"
   ]
  },
  {
   "cell_type": "markdown",
   "metadata": {},
   "source": [
    "##### Listing 2.5"
   ]
  },
  {
   "cell_type": "markdown",
   "metadata": {},
   "source": [
    "If we play the game `n` times, the starting point it that we have no idea about what arm will be the best arm to pull. As we play the game more times, we start gathering information in 'record', where we keep collecting the number of times we have pulled a particular arm and the average reward for each arm.\n",
    "\n",
    "Long term, we would like to use the best arm. However, we don't know which one is the best arm a-priori. Hence, we need to do some exploration to understand which arm is the best. This is done with a 'probability_of_exploration=0.2', and we do this by drawing a uniformly distributed random number between `0` and `1`, and if this number is bigger than `probability_of_exploration` we exploit the best arm, otherwise we pick a random arm and gain some new information."
   ]
  },
  {
   "cell_type": "code",
   "execution_count": 101,
   "metadata": {},
   "outputs": [
    {
     "name": "stdout",
     "output_type": "stream",
     "text": [
      "0.9680126484471145\n"
     ]
    },
    {
     "data": {
      "image/png": "[encoded data removed]",
      "text/plain": [
       "<Figure size 900x500 with 1 Axes>"
      ]
     },
     "metadata": {},
     "output_type": "display_data"
    }
   ],
   "source": [
    "fig,ax = plt.subplots(1,1)\n",
    "ax.set_xlabel(\"Plays\")\n",
    "ax.set_ylabel(\"Avg Reward\")\n",
    "fig.set_size_inches(9,5)\n",
    "rewards = [0]\n",
    "\n",
    "probability_of_exploring = 0.002\n",
    "\n",
    "\n",
    "number_of_plays = 5000\n",
    "number_of_actions = 10\n",
    "\n",
    "probs = np.random.rand(n) #A\n",
    "# Get the probability of the best arm as that's going to determine the best reward and the best action\n",
    "max_prob = np.max(probs)\n",
    "print(max_prob)\n",
    "\n",
    "def constant_probability_of_exploring(number_of_plays: int) -> float:\n",
    "    return 0.2\n",
    "\n",
    "def play_game(number_of_plays: int, probability_of_exploring: constant_probability_of_exploring) -> List[float]:\n",
    "    \"\"\"Play the game for a given number of plays with a given probability of exploring.\n",
    "    Args:\n",
    "        number_of_plays (int): The number of plays to play the game.\n",
    "        probability_of_exploring (constant_probability_of_exploring): A function that encodes the probability of exploring.\n",
    "                                                                    This is a function so that it can vary over time as the \"agent\" learns more \n",
    "                                                                    about the best arm.\n",
    "    Returns:\n",
    "        List[float]: The rewards for the game.\n",
    "    \"\"\"\n",
    "    # Initialize the record of the actions to start with a clean slate\n",
    "    # 10 actions x 2 columns\n",
    "    # Columns: # of times pulled, Avg Reward\n",
    "    record = np.zeros((n,2))\n",
    "    # Play the game 500 times\n",
    "    for i in range(number_of_plays):\n",
    "        # With probability 1-probability_of_exploring, choose the best arm\n",
    "        if random.random() > probability_of_exploring(i):\n",
    "            choice = get_best_arm(record)\n",
    "        else:\n",
    "            # Choose a random arm with probability_of_exploring\n",
    "            choice = np.random.randint(number_of_actions)\n",
    "        r = get_reward(probs[choice])\n",
    "        record = update_record(record,choice,r)\n",
    "        mean_reward = ((i+1) * rewards[-1] + r)/(i+2)\n",
    "        rewards.append(mean_reward)\n",
    "\n",
    "    return rewards\n",
    "\n",
    "def plot_results(rewards, max_prob):\n",
    "    # Plot the average reward over the n plays of the game    \n",
    "    ax.scatter(np.arange(len(rewards)), rewards, label='Actual Rewards')\n",
    "    ax.axhline(y=max_prob*n, color='r', linestyle='--', label=f'Best Arm Average Reward ({max_prob*n:.2f})')\n",
    "    ax.legend(\n",
    "    loc='lower right',  # Position: 'upper right', 'upper left', 'lower right', 'lower left', 'center', etc.\n",
    "    bbox_to_anchor=(1.0, 1.0),  # Fine-tune position\n",
    "    frameon=True,  # Add a frame\n",
    "    shadow=True,  # Add shadow\n",
    "    )\n",
    "    ax.set_ylim(0, 10)\n",
    "\n",
    "rewards = play_game(number_of_plays, constant_probability_of_exploring)\n",
    "plot_results(rewards, max_prob)\n"
   ]
  },
  {
   "cell_type": "markdown",
   "metadata": {},
   "source": [
    "The image above shows what the result of the experiment is starting with zero information, as we reset 'reward' with every attempt. The 'probs' is usually set to random but in this case, I am freezing it to\n",
    "\n",
    "'''\n",
    "probs=[0.46307584, 0.58492433, 0.68362618, 0.49134106, 0.52871027,\n",
    "       0.24736295, 0.1014495 , 0.66554949, 0.07273855, 0.89138766]\n",
    "'''\n",
    "This is done so that I can write an interpretation of the result without having to worry too much about  "
   ]
  },
  {
   "cell_type": "code",
   "execution_count": 61,
   "metadata": {},
   "outputs": [
    {
     "data": {
      "text/plain": [
       "array([0.46307584, 0.58492433, 0.68362618, 0.49134106, 0.52871027,\n",
       "       0.24736295, 0.1014495 , 0.66554949, 0.07273855, 0.89138766])"
      ]
     },
     "execution_count": 61,
     "metadata": {},
     "output_type": "execute_result"
    }
   ],
   "source": [
    "probs"
   ]
  },
  {
   "cell_type": "markdown",
   "metadata": {},
   "source": [
    "##### Listing 2.6"
   ]
  },
  {
   "cell_type": "code",
   "execution_count": 13,
   "metadata": {},
   "outputs": [],
   "source": [
    "def softmax(av, tau=1.12):\n",
    "    softm = ( np.exp(av / tau) / np.sum( np.exp(av / tau) ) )\n",
    "    return softm"
   ]
  },
  {
   "cell_type": "code",
   "execution_count": 14,
   "metadata": {},
   "outputs": [],
   "source": [
    "probs = np.random.rand(n)\n",
    "record = np.zeros((n,2))"
   ]
  },
  {
   "cell_type": "code",
   "execution_count": 15,
   "metadata": {},
   "outputs": [
    {
     "data": {
      "text/plain": [
       "<matplotlib.collections.PathCollection at 0x7f917cbb7e50>"
      ]
     },
     "execution_count": 15,
     "metadata": {},
     "output_type": "execute_result"
    },
    {
     "data": {
      "image/png": "[encoded data removed]",
      "text/plain": [
       "<Figure size 900x500 with 1 Axes>"
      ]
     },
     "metadata": {},
     "output_type": "display_data"
    }
   ],
   "source": [
    "fig,ax = plt.subplots(1,1)\n",
    "ax.set_xlabel(\"Plays\")\n",
    "ax.set_ylabel(\"Avg Reward\")\n",
    "fig.set_size_inches(9,5)\n",
    "rewards = [0]\n",
    "for i in range(500):\n",
    "    p = softmax(record[:,1],tau=0.7)\n",
    "    choice = np.random.choice(np.arange(n),p=p)\n",
    "    r = get_reward(probs[choice])\n",
    "    record = update_record(record,choice,r)\n",
    "    mean_reward = ((i+1) * rewards[-1] + r)/(i+2)\n",
    "    rewards.append(mean_reward)\n",
    "ax.scatter(np.arange(len(rewards)),rewards)"
   ]
  },
  {
   "cell_type": "markdown",
   "metadata": {},
   "source": [
    "##### Listing 2.9"
   ]
  },
  {
   "cell_type": "code",
   "execution_count": 16,
   "metadata": {},
   "outputs": [],
   "source": [
    "class ContextBandit:\n",
    "    def __init__(self, arms=10):\n",
    "        self.arms = arms\n",
    "        self.init_distribution(arms)\n",
    "        self.update_state()\n",
    "        \n",
    "    def init_distribution(self, arms):\n",
    "        # Num states = Num Arms to keep things simple\n",
    "        self.bandit_matrix = np.random.rand(arms,arms)\n",
    "        #each row represents a state, each column an arm\n",
    "        \n",
    "    def reward(self, prob):\n",
    "        reward = 0\n",
    "        for i in range(self.arms):\n",
    "            if random.random() < prob:\n",
    "                reward += 1\n",
    "        return reward\n",
    "        \n",
    "    def get_state(self):\n",
    "        return self.state\n",
    "    \n",
    "    def update_state(self):\n",
    "        self.state = np.random.randint(0,self.arms)\n",
    "        \n",
    "    def get_reward(self,arm):\n",
    "        return self.reward(self.bandit_matrix[self.get_state()][arm])\n",
    "        \n",
    "    def choose_arm(self, arm):\n",
    "        reward = self.get_reward(arm)\n",
    "        self.update_state()\n",
    "        return reward"
   ]
  },
  {
   "cell_type": "code",
   "execution_count": 17,
   "metadata": {},
   "outputs": [],
   "source": [
    "import numpy as np\n",
    "import torch\n",
    "\n",
    "arms = 10\n",
    "N, D_in, H, D_out = 1, arms, 100, arms"
   ]
  },
  {
   "cell_type": "code",
   "execution_count": 18,
   "metadata": {},
   "outputs": [
    {
     "name": "stdout",
     "output_type": "stream",
     "text": [
      "3\n"
     ]
    }
   ],
   "source": [
    "env = ContextBandit(arms=10)\n",
    "state = env.get_state()\n",
    "reward = env.choose_arm(1)\n",
    "print(state)"
   ]
  },
  {
   "cell_type": "code",
   "execution_count": 19,
   "metadata": {},
   "outputs": [],
   "source": [
    "model = torch.nn.Sequential(\n",
    "    torch.nn.Linear(D_in, H),\n",
    "    torch.nn.ReLU(),\n",
    "    torch.nn.Linear(H, D_out),\n",
    "    torch.nn.ReLU(),\n",
    ")"
   ]
  },
  {
   "cell_type": "code",
   "execution_count": 20,
   "metadata": {},
   "outputs": [],
   "source": [
    "loss_fn = torch.nn.MSELoss()"
   ]
  },
  {
   "cell_type": "code",
   "execution_count": 21,
   "metadata": {},
   "outputs": [],
   "source": [
    "env = ContextBandit(arms)"
   ]
  },
  {
   "cell_type": "code",
   "execution_count": 22,
   "metadata": {},
   "outputs": [],
   "source": [
    "def one_hot(N, pos, val=1):\n",
    "    one_hot_vec = np.zeros(N)\n",
    "    one_hot_vec[pos] = val\n",
    "    return one_hot_vec"
   ]
  },
  {
   "cell_type": "code",
   "execution_count": 23,
   "metadata": {},
   "outputs": [],
   "source": [
    "def running_mean(x,N=50):\n",
    "    c = x.shape[0] - N\n",
    "    y = np.zeros(c)\n",
    "    conv = np.ones(N)\n",
    "    for i in range(c):\n",
    "        y[i] = (x[i:i+N] @ conv)/N\n",
    "    return y"
   ]
  },
  {
   "cell_type": "code",
   "execution_count": 24,
   "metadata": {},
   "outputs": [],
   "source": [
    "def train(env, epochs=5000, learning_rate=1e-2):\n",
    "    cur_state = torch.Tensor(one_hot(arms,env.get_state())) #A\n",
    "    optimizer = torch.optim.Adam(model.parameters(), lr=learning_rate)\n",
    "    rewards = []\n",
    "    for i in range(epochs):\n",
    "        y_pred = model(cur_state) #B\n",
    "        av_softmax = softmax(y_pred.data.numpy(), tau=2.0) #C\n",
    "        av_softmax /= av_softmax.sum() #D\n",
    "        choice = np.random.choice(arms, p=av_softmax) #E\n",
    "        cur_reward = env.choose_arm(choice) #F\n",
    "        one_hot_reward = y_pred.data.numpy().copy() #G\n",
    "        one_hot_reward[choice] = cur_reward #H\n",
    "        reward = torch.Tensor(one_hot_reward)\n",
    "        rewards.append(cur_reward)\n",
    "        loss = loss_fn(y_pred, reward)\n",
    "        optimizer.zero_grad()\n",
    "        loss.backward()\n",
    "        optimizer.step()\n",
    "        cur_state = torch.Tensor(one_hot(arms,env.get_state())) #I\n",
    "    return np.array(rewards)"
   ]
  },
  {
   "cell_type": "code",
   "execution_count": 25,
   "metadata": {},
   "outputs": [],
   "source": [
    "rewards = train(env)"
   ]
  },
  {
   "cell_type": "code",
   "execution_count": 26,
   "metadata": {},
   "outputs": [
    {
     "data": {
      "text/plain": [
       "[<matplotlib.lines.Line2D at 0x7f91a975c100>]"
      ]
     },
     "execution_count": 26,
     "metadata": {},
     "output_type": "execute_result"
    },
    {
     "data": {
      "image/png": "[encoded data removed]",
      "text/plain": [
       "<Figure size 640x480 with 1 Axes>"
      ]
     },
     "metadata": {},
     "output_type": "display_data"
    }
   ],
   "source": [
    "plt.plot(running_mean(rewards,N=500))"
   ]
  },
  {
   "cell_type": "code",
   "execution_count": null,
   "metadata": {},
   "outputs": [],
   "source": []
  },
  {
   "cell_type": "code",
   "execution_count": null,
   "metadata": {},
   "outputs": [],
   "source": []
  }
 ],
 "metadata": {
  "kernelspec": {
   "display_name": ".venv",
   "language": "python",
   "name": "python3"
  },
  "language_info": {
   "codemirror_mode": {
    "name": "ipython",
    "version": 3
   },
   "file_extension": ".py",
   "mimetype": "text/x-python",
   "name": "python",
   "nbconvert_exporter": "python",
   "pygments_lexer": "ipython3",
   "version": "3.13.0"
  }
 },
 "nbformat": 4,
 "nbformat_minor": 4
}
